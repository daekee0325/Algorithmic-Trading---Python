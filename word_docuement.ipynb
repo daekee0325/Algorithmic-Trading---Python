{
  "nbformat": 4,
  "nbformat_minor": 0,
  "metadata": {
    "colab": {
      "provenance": [],
      "authorship_tag": "ABX9TyO9dTwsB4FCsakNuOPXao/c",
      "include_colab_link": true
    },
    "kernelspec": {
      "name": "python3",
      "display_name": "Python 3"
    },
    "language_info": {
      "name": "python"
    }
  },
  "cells": [
    {
      "cell_type": "markdown",
      "metadata": {
        "id": "view-in-github",
        "colab_type": "text"
      },
      "source": [
        "<a href=\"https://colab.research.google.com/github/daekee0325/Algorithmic-Trading---Python/blob/main/word_docuement.ipynb\" target=\"_parent\"><img src=\"https://colab.research.google.com/assets/colab-badge.svg\" alt=\"Open In Colab\"/></a>"
      ]
    },
    {
      "cell_type": "code",
      "execution_count": null,
      "metadata": {
        "colab": {
          "base_uri": "https://localhost:8080/",
          "height": 454
        },
        "id": "ZXQop-5uRx7r",
        "outputId": "a4b6e2e1-2c0f-4379-a6fe-d1172e4f260c"
      },
      "outputs": [
        {
          "output_type": "error",
          "ename": "ModuleNotFoundError",
          "evalue": "No module named 'docx'",
          "traceback": [
            "\u001b[0;31m---------------------------------------------------------------------------\u001b[0m",
            "\u001b[0;31mModuleNotFoundError\u001b[0m                       Traceback (most recent call last)",
            "\u001b[0;32m<ipython-input-1-ca893922471b>\u001b[0m in \u001b[0;36m<cell line: 1>\u001b[0;34m()\u001b[0m\n\u001b[0;32m----> 1\u001b[0;31m \u001b[0;32mfrom\u001b[0m \u001b[0mdocx\u001b[0m \u001b[0;32mimport\u001b[0m \u001b[0mDocument\u001b[0m\u001b[0;34m\u001b[0m\u001b[0;34m\u001b[0m\u001b[0m\n\u001b[0m\u001b[1;32m      2\u001b[0m \u001b[0;34m\u001b[0m\u001b[0m\n\u001b[1;32m      3\u001b[0m \u001b[0;31m# Create a new Document\u001b[0m\u001b[0;34m\u001b[0m\u001b[0;34m\u001b[0m\u001b[0m\n\u001b[1;32m      4\u001b[0m \u001b[0mdoc\u001b[0m \u001b[0;34m=\u001b[0m \u001b[0mDocument\u001b[0m\u001b[0;34m(\u001b[0m\u001b[0;34m)\u001b[0m\u001b[0;34m\u001b[0m\u001b[0;34m\u001b[0m\u001b[0m\n\u001b[1;32m      5\u001b[0m \u001b[0;34m\u001b[0m\u001b[0m\n",
            "\u001b[0;31mModuleNotFoundError\u001b[0m: No module named 'docx'",
            "",
            "\u001b[0;31m---------------------------------------------------------------------------\u001b[0;32m\nNOTE: If your import is failing due to a missing package, you can\nmanually install dependencies using either !pip or !apt.\n\nTo view examples of installing some common dependencies, click the\n\"Open Examples\" button below.\n\u001b[0;31m---------------------------------------------------------------------------\u001b[0m\n"
          ],
          "errorDetails": {
            "actions": [
              {
                "action": "open_url",
                "actionText": "Open Examples",
                "url": "/notebooks/snippets/importing_libraries.ipynb"
              }
            ]
          }
        }
      ],
      "source": [
        "from docx import Document\n",
        "\n",
        "# Create a new Document\n",
        "doc = Document()\n",
        "\n",
        "# Add Title\n",
        "doc.add_heading('Daeki Min', 0)\n",
        "\n",
        "# Add Contact Information\n",
        "doc.add_paragraph(\"Address:\\n105-501 Halla Vivaldi Apartments,\\n58 Gyeongchung-daero 1127beon-gil, Chowol-eup,\\nGwangju-si, Gyeonggi-do, South Korea\")\n",
        "doc.add_paragraph(\"Phone: +82-10-9076-3445\")\n",
        "doc.add_paragraph(\"Email: dkmin@duksung.ac.kr\")\n",
        "\n",
        "# Add Education Section\n",
        "doc.add_heading('Education', level=1)\n",
        "doc.add_paragraph('Ph.D. in Applied Mathematics and Statistics\\nState University of New York\\nAugust 1996')\n",
        "doc.add_paragraph('M.S. in Statistics\\nMichigan State University\\nAugust 1992')\n",
        "doc.add_paragraph('B.A. in Economics\\nKorea University\\nAugust 1983')\n",
        "\n",
        "# Add Current Position\n",
        "doc.add_heading('Current Position', level=1)\n",
        "doc.add_paragraph('Honorary Professor, Department of Information and Statistics, Duksung Women’s University')\n",
        "doc.add_paragraph('Research Professor, Climate Change Research Center, Sejong University\\nMarch 2023 - Present')\n",
        "\n",
        "# Add Previous Academic Positions\n",
        "doc.add_heading('Previous Academic Positions', level=1)\n",
        "doc.add_paragraph('Professor, Department of Information and Statistics, Duksung Women’s University\\nSeptember 2000 - September 2021\\n'\n",
        "                  'Lectured on Machine Learning, Python Programming, SAS Programming, SPSS Statistical Analysis, and more.\\n'\n",
        "                  'Provided foundational statistics education for clinical trial professionals using SAS and SPSS (Health Industry Development Institute, May - September 2017).')\n",
        "\n",
        "doc.add_paragraph('Assistant Professor, Department of Information and Statistics, Daegu Catholic University\\nMarch 1998 - August 2000')\n",
        "\n",
        "doc.add_paragraph('Researcher, Department of Preventive Medicine, Mount Sinai School of Medicine, New York\\nSeptember 1996 - December 1997')\n",
        "\n",
        "doc.add_paragraph('Researcher, Genetic Research Institute, University of Pittsburgh School of Medicine\\nJanuary 1996 - August 1996')\n",
        "\n",
        "# Add Awards\n",
        "doc.add_heading('Awards', level=1)\n",
        "doc.add_paragraph('Minister of Education Award\\nFebruary 10, 2022')\n",
        "doc.add_paragraph('President’s Award, Duksung Women’s University\\nApril 19, 2011')\n",
        "\n",
        "# Add Certifications\n",
        "doc.add_heading('Certifications', level=1)\n",
        "doc.add_paragraph('SAS Certified Base Programmer\\nJuly 2004')\n",
        "\n",
        "# Add Professional Experience\n",
        "doc.add_heading('Professional Experience', level=1)\n",
        "doc.add_paragraph('Dean, Liberal Arts Department, Duksung Women’s University\\nMarch 2017 - February 2019')\n",
        "\n",
        "doc.add_paragraph('Director, Industry-Academic Cooperation Office, Duksung Women’s University\\nMarch 2014 - February 2015')\n",
        "\n",
        "doc.add_paragraph('Director, Information Support Center & Deputy Provost, Duksung Women’s University\\nJuly 2004 - February 2007\\n'\n",
        "                  'Led ERP and academic system implementation, e-approval systems, and smart card projects.')\n",
        "\n",
        "# Add External Experience\n",
        "doc.add_heading('External Experience', level=1)\n",
        "doc.add_paragraph('Data Verification Consultant, Korea Women’s Golf Association\\nMarch 2018 - December 2018\\n'\n",
        "                  'Verified the reliability and validity of collected data and ensured accuracy of information provided to media and web platforms.')\n",
        "\n",
        "doc.add_paragraph('Information System Consulting\\n'\n",
        "                  '- Korea Women’s Professional Golf Association (2007)\\n'\n",
        "                  '- Korea Men’s Professional Golf Association (2008)\\n'\n",
        "                  '- Korea Professional Volleyball Association (2004)\\n'\n",
        "                  '- Korea Professional Basketball Association (2003)\\n'\n",
        "                  '- Shanghai Broadcasting, China Super League Analysis (2003)\\n'\n",
        "                  '- SBS World Cup Analysis, Korea National Football Team (2002)\\n'\n",
        "                  '- Korea Football Association, Real-time Analysis System (2001)')\n",
        "\n",
        "doc.add_paragraph('General Manager, New Expression Corporation\\n1985 - 1990')\n",
        "\n",
        "# Add Patents\n",
        "doc.add_heading('Patents', level=1)\n",
        "doc.add_paragraph('Real-time Football Game Input and Analysis System\\n'\n",
        "                  '- Domestic Application: April 13, 2002\\n'\n",
        "                  '- International Application: May 2002')\n",
        "\n",
        "# Add Publications\n",
        "doc.add_heading('Publications', level=1)\n",
        "\n",
        "# Books\n",
        "doc.add_paragraph('Books')\n",
        "doc.add_paragraph('*Survey Design and Statistical Analysis*, Hannarae Publishing, 2010')\n",
        "doc.add_paragraph('*Basic Statistical Analysis for Clinical Trials*, Health Industry Development Institute, 2018')\n",
        "\n",
        "# Selected Journal Articles\n",
        "doc.add_paragraph('Selected Journal Articles')\n",
        "doc.add_paragraph('*Trajectories of Life Satisfaction and their Predictors among Korean Older Adults*, BMC Geriatrics, 2017')\n",
        "doc.add_paragraph('*Multidimensional Construct of Life Satisfaction in Older Adults in Korea*, BMC Geriatrics, 2016')\n",
        "doc.add_paragraph('*Study of Child Abuse Families Using Logistic Regression Models*, Journal of the Korean Data and Information Science Society, 2016')\n",
        "doc.add_paragraph('*How Depression Affects Girls Who Experienced Violence in Home or at School: Using Mixed Model*, Journal of the Korean Data & Information Science Society, 2016')\n",
        "doc.add_paragraph('*The Influence of Parental Behavior Control and Adolescents Anxiety on School-Related Adjustment*, Family and Environment Research, 2015')\n",
        "doc.add_paragraph('*Performance Analysis in Soccer Games*, Journal of the Korean Data & Information Science Society, 2015')\n",
        "doc.add_paragraph('*The Influence of Parental Child Abuse, School Violence, and Friend’s Attachment on Mental Health in Childhood*, Journal of the Korean Data and Information Science Society, 2014')\n",
        "doc.add_paragraph('*Decision Trees and Gradient Boosting for Profit Models in Forex Trading*, Journal of the Korean Data & Information Science Society, 2013')\n",
        "doc.add_paragraph('*Comparison of Standardization Methods via Original Score Rank and Standard Score Rank*, Journal of the Korean Data & Information Science Society, 2012')\n",
        "doc.add_paragraph('*Path Analysis on Performance Influence in PGA Golf*, Journal of the Korean Data & Information Science Society, 2011')\n",
        "doc.add_paragraph('*Cluster Analysis of Profiles of Female Professional Golfers*, Journal of the Korean Data & Information Science Society, 2010')\n",
        "doc.add_paragraph('*Using Neural Networks to Predict Winners*, Journal of the Korean Data & Information Science Society, 2009')\n",
        "doc.add_paragraph('*Effects of Performance Techniques and Power on Earnings in KLPGA*, Journal of Korean Data Analysis Society, 2009')\n",
        "doc.add_paragraph('*Analysis of Long-term Driver Insurance Product Customer Patterns Using Decision Trees*, Journal of The Korean Data Analysis Society, 2006')\n",
        "doc.add_paragraph('*Expectations and Success Conditions for ERP Implementation in Universities*, Journal of The Korean Data Analysis Society, 2005')\n",
        "doc.add_paragraph('*Information Graphics in Football*, Journal of The Korean Data Analysis Society, 2004')\n",
        "\n",
        "# Save the document\n",
        "#file_path = '/mnt/data/Daeki_Min_Resume_English.docx'\n",
        "doc.save(file_path)\n",
        "\n",
        "file_path\n"
      ]
    }
  ]
}