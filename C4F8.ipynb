{
  "nbformat": 4,
  "nbformat_minor": 0,
  "metadata": {
    "colab": {
      "provenance": [],
      "authorship_tag": "ABX9TyNkm+SKNFvHR+tp5mD3YAjz",
      "include_colab_link": true
    },
    "kernelspec": {
      "name": "python3",
      "display_name": "Python 3"
    },
    "language_info": {
      "name": "python"
    }
  },
  "cells": [
    {
      "cell_type": "markdown",
      "metadata": {
        "id": "view-in-github",
        "colab_type": "text"
      },
      "source": [
        "<a href=\"https://colab.research.google.com/github/daekee0325/Algorithmic-Trading---Python/blob/main/C4F8.ipynb\" target=\"_parent\"><img src=\"https://colab.research.google.com/assets/colab-badge.svg\" alt=\"Open In Colab\"/></a>"
      ]
    },
    {
      "cell_type": "code",
      "execution_count": null,
      "metadata": {
        "id": "w1R4CGzyy9iL"
      },
      "outputs": [],
      "source": [
        "# Select the relevant columns (r to w correspond to indices 17 to 22)\n",
        "columns_to_analyze = ['C4F8_r', 'CF4_r', 'C2F6_r', 'CHF3_r', 'CH2F2_r', 'CH3F_r']\n",
        "\n",
        "# Perform correlation analysis with respect to the 'plasma' column\n",
        "correlation_results = data[columns_to_analyze].corrwith(data['plasma'])\n",
        "\n",
        "# Display the results to the user\n",
        "import ace_tools as tools; tools.display_dataframe_to_user(\"Correlation Analysis Results\", correlation_results)\n"
      ]
    },
    {
      "cell_type": "code",
      "source": [],
      "metadata": {
        "id": "TXgx7nWkzdUs"
      },
      "execution_count": null,
      "outputs": []
    },
    {
      "cell_type": "code",
      "source": [
        "# Calculate the correlation matrix for columns r to w (C4F8_r to CH3F_r)\n",
        "correlation_matrix = data[columns_to_analyze].corr()\n",
        "\n",
        "# Display the correlation matrix to the user\n",
        "import ace_tools as tools; tools.display_dataframe_to_user(\"Correlation Matrix for Columns r to w\", correlation_matrix)\n"
      ],
      "metadata": {
        "id": "7OkWIBw2zDBu"
      },
      "execution_count": null,
      "outputs": []
    },
    {
      "cell_type": "code",
      "source": [
        "import matplotlib.pyplot as plt\n",
        "import seaborn as sns\n",
        "\n",
        "# Set up the matplotlib figure\n",
        "plt.figure(figsize=(10, 8))\n",
        "\n",
        "# Draw the heatmap\n",
        "sns.heatmap(correlation_matrix, annot=True, cmap='coolwarm', fmt='.2f', linewidths=.5)\n",
        "\n",
        "# Set titles and labels\n",
        "plt.title('Correlation Matrix Heatmap for Columns r to w')\n",
        "plt.show()\n"
      ],
      "metadata": {
        "id": "mIoHPY6Gzekx"
      },
      "execution_count": null,
      "outputs": []
    },
    {
      "cell_type": "code",
      "source": [
        "import scipy.stats as stats\n",
        "import numpy as np\n",
        "\n",
        "# Extracting the columns to test\n",
        "plasma_values = data['plasma'].unique()\n",
        "mean_test_results = {}\n",
        "\n",
        "# Perform t-tests for each column between different plasma values\n",
        "for column in columns_to_analyze:\n",
        "    # Create groups based on plasma values\n",
        "    groups = [data[data['plasma'] == plasma][column].dropna() for plasma in plasma_values]\n",
        "\n",
        "    # Perform ANOVA if there are more than two groups\n",
        "    if len(plasma_values) > 2:\n",
        "        f_val, p_val = stats.f_oneway(*groups)\n",
        "        mean_test_results[column] = p_val\n",
        "    else:\n",
        "        t_stat, p_val = stats.ttest_ind(*groups, equal_var=False)\n",
        "        mean_test_results[column] = p_val\n",
        "\n",
        "# Display the results of the mean tests\n",
        "mean_test_results_df = pd.DataFrame(list(mean_test_results.items()), columns=['Column', 'P-Value'])\n",
        "\n",
        "import ace_tools as tools; tools.display_dataframe_to_user(\"Mean Test Results by Plasma Levels\", mean_test_results_df)\n",
        "\n",
        "# If ANOVA is significant (p < 0.05), perform pairwise t-tests\n",
        "pairwise_test_results = {}\n",
        "\n",
        "if len(plasma_values) > 2:\n",
        "    significant_columns = mean_test_results_df[mean_test_results_df['P-Value'] < 0.05]['Column']\n",
        "\n",
        "    for column in significant_columns:\n",
        "        pairwise_results = {}\n",
        "        for i in range(len(plasma_values)):\n",
        "            for j in range(i + 1, len(plasma_values)):\n",
        "                group1 = data[data['plasma'] == plasma_values[i]][column].dropna()\n",
        "                group2 = data[data['plasma'] == plasma_values[j]][column].dropna()\n",
        "                t_stat, p_val = stats.ttest_ind(group1, group2, equal_var=False)\n",
        "                pairwise_results[f'{plasma_values[i]} vs {plasma_values[j]}'] = p_val\n",
        "        pairwise_test_results[column] = pairwise_results\n",
        "\n",
        "if pairwise_test_results:\n",
        "    pairwise_test_results_df = pd.DataFrame(pairwise_test_results).T\n",
        "    tools.display_dataframe_to_user(\"Pairwise Mean Test Results by Plasma Levels\", pairwise_test_results_df)\n"
      ],
      "metadata": {
        "id": "hn6Zbs22zh63"
      },
      "execution_count": null,
      "outputs": []
    },
    {
      "cell_type": "code",
      "source": [
        "# Plot the distribution of each column from r to w based on plasma levels with distinct colors\n",
        "\n",
        "plt.figure(figsize=(15, 10))\n",
        "\n",
        "for i, column in enumerate(columns_to_analyze, 1):\n",
        "    plt.subplot(2, 3, i)\n",
        "    sns.histplot(data=data, x=column, hue='plasma', element='step', stat=\"density\", common_norm=False, palette=\"Set2\")\n",
        "    plt.title(f'Distribution of {column} by Plasma Levels')\n",
        "\n",
        "plt.tight_layout()\n",
        "plt.show()\n"
      ],
      "metadata": {
        "id": "_96mkIFyzmCZ"
      },
      "execution_count": null,
      "outputs": []
    },
    {
      "cell_type": "code",
      "source": [
        "# Plot the distribution of each column from r to w based on plasma levels with distinct colors\n",
        "\n",
        "plt.figure(figsize=(15, 10))\n",
        "\n",
        "for i, column in enumerate(columns_to_analyze, 1):\n",
        "    plt.subplot(2, 3, i)\n",
        "    sns.histplot(data=data, x=column, hue='plasma', element='step', stat=\"density\", common_norm=False, palette=\"Set2\")\n",
        "    plt.title(f'Distribution of {column} by Plasma Levels')\n",
        "\n",
        "plt.tight_layout()\n",
        "plt.show()\n"
      ],
      "metadata": {
        "id": "JEXa4KCRzw7y"
      },
      "execution_count": null,
      "outputs": []
    },
    {
      "cell_type": "code",
      "source": [
        "# Simplifying the layout to avoid overlapping and exceeding subplot limits\n",
        "\n",
        "plt.figure(figsize=(15, 15))\n",
        "\n",
        "for i, column in enumerate(columns_to_analyze):\n",
        "    # Plot distribution with outliers\n",
        "    plt.subplot(len(columns_to_analyze), 2, 2 * i + 1)\n",
        "    sns.histplot(data=data, x=column, hue='plasma', element='step', stat=\"density\", common_norm=False, palette=\"Set2\")\n",
        "    plt.title(f'{column} Distribution with Outliers')\n",
        "\n",
        "    # Plot distribution without outliers\n",
        "    plt.subplot(len(columns_to_analyze), 2, 2 * i + 2)\n",
        "    data_no_outliers = remove_outliers(data, column)\n",
        "    sns.histplot(data=data_no_outliers, x=column, hue='plasma', element='step', stat=\"density\", common_norm=False, palette=\"Set2\")\n",
        "    plt.title(f'{column} Distribution without Outliers')\n",
        "\n",
        "plt.tight_layout()\n",
        "plt.show()\n"
      ],
      "metadata": {
        "id": "NxxgebCEz0_e"
      },
      "execution_count": null,
      "outputs": []
    },
    {
      "cell_type": "code",
      "source": [
        "# Performing MANOVA with plasma as the independent variable and columns r to w as dependent variables\n",
        "\n",
        "# Preparing the data\n",
        "X = data[['plasma']]\n",
        "y = data[columns_to_analyze]\n",
        "\n",
        "# Performing MANOVA\n",
        "manova = MANOVA(endog=y, exog=X)\n",
        "manova_results = manova.mv_test()\n",
        "\n",
        "manova_results\n"
      ],
      "metadata": {
        "id": "r_q5vhll0MKw"
      },
      "execution_count": null,
      "outputs": []
    }
  ]
}